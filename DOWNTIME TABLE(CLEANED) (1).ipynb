{
 "cells": [
  {
   "cell_type": "code",
   "execution_count": 3,
   "id": "5d842881",
   "metadata": {},
   "outputs": [
    {
     "name": "stdout",
     "output_type": "stream",
     "text": [
      "        CreationTimestamp                                CoilID  \\\n",
      "183   2022-09-01 00:25:17  D568D172-A9EF-C84C-8B6D-1E1F2FE4C928   \n",
      "184   2022-09-01 00:53:39  4C654B84-2B0E-604E-B9A5-CFBD304B083D   \n",
      "185   2022-09-01 01:52:44  E9509CE0-7F3B-4A4B-BF31-EA95CCF564BA   \n",
      "186   2022-09-01 02:05:03  0B9CA909-BE64-6442-A4DF-9B785CEA8238   \n",
      "187   2022-09-01 02:28:48  B8CE7400-B0BB-764A-B757-811137932DA8   \n",
      "...                   ...                                   ...   \n",
      "20908 2023-12-05 10:00:37  6A838778-19BA-774E-A2A8-F09306373941   \n",
      "20909 2023-12-05 10:09:35  091D4A42-A69A-7742-B849-19A57B0E7BE8   \n",
      "20910 2023-12-05 11:10:47  84A9DADA-6E84-B14F-BC87-BFC7912448C6   \n",
      "20911 2023-12-05 12:00:28  48DB70FA-2B0C-C74A-86BC-7741ED5CE460   \n",
      "20912 2023-12-05 12:01:29  BB1EC47E-20E4-D043-AE23-0BB519254FDD   \n",
      "\n",
      "                                  SessionID  \\\n",
      "183    8F8B98DB-A1D5-4BF1-BD81-B1B8750C7428   \n",
      "184    8F8B98DB-A1D5-4BF1-BD81-B1B8750C7428   \n",
      "185    8F8B98DB-A1D5-4BF1-BD81-B1B8750C7428   \n",
      "186    7C968C36-D7F9-43BD-9200-CF98E5FC19A7   \n",
      "187    8F8B98DB-A1D5-4BF1-BD81-B1B8750C7428   \n",
      "...                                     ...   \n",
      "20908  2547EFAE-9994-431C-8322-7F405ABF8847   \n",
      "20909  0520AB1D-46D1-418E-900F-69301B3725AC   \n",
      "20910  D168BA99-525C-47FE-8A78-81CB9BA24F90   \n",
      "20911  452F3919-4199-428E-9EFD-036933656DC9   \n",
      "20912  26A85859-D3B9-49A0-B818-FB1310F88E44   \n",
      "\n",
      "                                 DowntimeID     ProcessUpTimestamp  \\\n",
      "183    A4DAAC88-DBA9-4F5F-88B4-FE189C0A0A72   9/1/2022 12:29:39 AM   \n",
      "184    8F387B28-8114-4882-8D92-AA18ACB5FC29   9/1/2022 12:58:22 AM   \n",
      "185    72D3651F-B0CE-4847-A94F-7C6C0A651D3E    9/1/2022 2:16:53 AM   \n",
      "186    E5E50539-BFDF-4512-9465-6C968E827069    9/1/2022 2:09:19 AM   \n",
      "187    B70F4F47-2DB8-4642-8AFD-6000A958B8FD    9/1/2022 3:05:06 AM   \n",
      "...                                     ...                    ...   \n",
      "20908  9E7C0703-0A11-451E-8F50-6DF9C7742948  12/5/2023 10:08:49 AM   \n",
      "20909  70AB1E47-47E5-4415-8DE4-48C596245776  12/5/2023 10:17:23 AM   \n",
      "20910  6C6362B4-CEE8-4544-87F9-9F28B64252A3  12/5/2023 11:20:36 AM   \n",
      "20911  910013CE-C99A-4C39-8825-C02FD8DEE3FE                    NaN   \n",
      "20912  27753265-7C74-425D-B40B-C95A9DDD4F1F                    NaN   \n",
      "\n",
      "                          Reason                              ReasonID  \\\n",
      "183    Equipment/Machine Failure  6227A9E2-68F9-6C43-A110-512ADB8875C2   \n",
      "184                        Other  276E22C8-771A-804D-81E9-A7722CDEB3D5   \n",
      "185                        Other  276E22C8-771A-804D-81E9-A7722CDEB3D5   \n",
      "186                        Other  276E22C8-771A-804D-81E9-A7722CDEB3D5   \n",
      "187             Shift Break (30)  E0AE35F8-143E-F44F-98EB-A27C610E65CB   \n",
      "...                          ...                                   ...   \n",
      "20908                   Washroom  D1BC1633-3321-FF47-B289-7D575231809E   \n",
      "20909                      Other  276E22C8-771A-804D-81E9-A7722CDEB3D5   \n",
      "20910                      Other  276E22C8-771A-804D-81E9-A7722CDEB3D5   \n",
      "20911           Shift Break (15)  74AD2F96-AB57-F744-A0A1-CC997D164228   \n",
      "20912           Shift Break (15)  74AD2F96-AB57-F744-A0A1-CC997D164228   \n",
      "\n",
      "                   ReasonDescription  TotalStopMinutes  \\\n",
      "183                         D77 area              4.37   \n",
      "184                 Check associates              4.72   \n",
      "185                       Supervisor             24.15   \n",
      "186    Figuring out the setup for IL              4.27   \n",
      "187                              NaN             36.30   \n",
      "...                              ...               ...   \n",
      "20908                            NaN              8.20   \n",
      "20909                     Help kevin              7.80   \n",
      "20910          Rework the first coil              9.82   \n",
      "20911                            NaN              0.00   \n",
      "20912                            NaN              0.00   \n",
      "\n",
      "       TotalStopMinutesAdjusted EmployeeID   OperationGroupName  \n",
      "183                        4.37        159        Consolidating  \n",
      "184                        0.00        159        Consolidating  \n",
      "185                        0.00        159        Consolidating  \n",
      "186                        0.00        231              Looping  \n",
      "187                       30.00        159        Consolidating  \n",
      "...                         ...        ...                  ...  \n",
      "20908                      0.00        277          Pre-Forming  \n",
      "20909                      0.00        112              Forming  \n",
      "20910                      0.00         39            Hand Tape  \n",
      "20911                     15.00        277  Lead Radius Forming  \n",
      "20912                     15.00        112            Hand Tape  \n",
      "\n",
      "[20730 rows x 12 columns]\n"
     ]
    }
   ],
   "source": [
    "import pandas as pd\n",
    "\n",
    "\n",
    "df = pd.read_csv('/Users/donyabonyadian/Desktop/emcc data/downtime.csv')\n",
    "\n",
    "# Convert 'CreationTimestamp' column to datetime\n",
    "df['CreationTimestamp'] = pd.to_datetime(df['CreationTimestamp'])\n",
    "\n",
    "# Filter data for entries on or after September 1, 2022\n",
    "filtered_df = df[df['CreationTimestamp'] >= '2022-09-01']\n",
    "\n",
    "# Print the resulting DataFrame\n",
    "print(filtered_df)\n"
   ]
  },
  {
   "cell_type": "code",
   "execution_count": 6,
   "id": "7d3408f1",
   "metadata": {},
   "outputs": [
    {
     "name": "stdout",
     "output_type": "stream",
     "text": [
      "Number of null values in each column:\n",
      "CreationTimestamp              0\n",
      "CoilID                       618\n",
      "SessionID                      0\n",
      "DowntimeID                     0\n",
      "ProcessUpTimestamp             0\n",
      "Reason                         0\n",
      "ReasonID                     911\n",
      "ReasonDescription           9214\n",
      "TotalStopMinutes               0\n",
      "TotalStopMinutesAdjusted     785\n",
      "EmployeeID                     0\n",
      "OperationGroupName             1\n",
      "dtype: int64\n",
      "\n",
      "Total number of rows with null values: 9816\n"
     ]
    }
   ],
   "source": [
    "\n",
    "# Count the number of null values in each column\n",
    "null_counts = df.isnull().sum()\n",
    "\n",
    "# Print the null counts for each column\n",
    "print(\"Number of null values in each column:\")\n",
    "print(null_counts)\n",
    "\n",
    "# Total number of rows with null values\n",
    "total_rows_with_null = df.isnull().any(axis=1).sum()\n",
    "print(\"\\nTotal number of rows with null values:\", total_rows_with_null)\n"
   ]
  },
  {
   "cell_type": "code",
   "execution_count": 7,
   "id": "5605709b",
   "metadata": {},
   "outputs": [
    {
     "name": "stdout",
     "output_type": "stream",
     "text": [
      "Total number of rows in each column:\n",
      "17945\n"
     ]
    }
   ],
   "source": [
    "\n",
    "# Get the total number of rows in each column\n",
    "total_rows_per_column = df.shape[0]\n",
    "\n",
    "# Print the total number of rows in each column\n",
    "print(\"Total number of rows in each column:\")\n",
    "print(total_rows_per_column)\n"
   ]
  },
  {
   "cell_type": "code",
   "execution_count": 8,
   "id": "9b52e58c",
   "metadata": {},
   "outputs": [
    {
     "name": "stdout",
     "output_type": "stream",
     "text": [
      "The ReasonID associated with Material Change is: nan\n"
     ]
    }
   ],
   "source": [
    "\n",
    "# Filter the DataFrame to rows where 'Reason' is 'Material Change'\n",
    "material_change_rows = df[df['Reason'] == 'Material Change']\n",
    "\n",
    "# Check if there are any rows with 'Material Change'\n",
    "if not material_change_rows.empty:\n",
    "    # Extract the first \"ReasonID\" associated with \"Material Change\"\n",
    "    material_change_reason_id = material_change_rows['ReasonID'].iloc[0]\n",
    "    print(f\"The ReasonID associated with Material Change is: {material_change_reason_id}\")\n",
    "else:\n",
    "    print(\"No rows found with Reason 'Material Change'.\")\n"
   ]
  },
  {
   "cell_type": "code",
   "execution_count": 6,
   "id": "da52574c",
   "metadata": {},
   "outputs": [
    {
     "name": "stdout",
     "output_type": "stream",
     "text": [
      "There are null values in 'ReasonID' except when 'Reason' is not 'Material Change'.\n",
      "        CreationTimestamp                                CoilID  \\\n",
      "18    2022-07-28 08:03:46  EBE15996-03F0-424C-8DF9-F7BDC9F52594   \n",
      "63    2022-08-04 10:25:02  A6C6B3EF-F3FD-7E4F-B2BA-BAF6E3179934   \n",
      "8498  2023-03-13 09:14:50                                  coil   \n",
      "13108 2023-05-30 02:03:19  F3A84FA4-2C7C-2A4D-90E7-F9214215D6DE   \n",
      "15390 2023-07-12 18:02:25  C03484E0-9028-CA49-8FEB-57F6E3E48259   \n",
      "...                   ...                                   ...   \n",
      "20471 2023-11-15 18:00:14  D2576A5A-9B84-C144-B22C-FE99FC0C9B4E   \n",
      "20566 2023-11-21 18:00:53                                  coil   \n",
      "20591 2023-11-22 18:01:38  AD2C0BF8-6EF1-3842-861E-7E41D1AA7904   \n",
      "20629 2023-11-23 18:01:17  4072EB53-FA51-2840-BE05-406807F6BFC0   \n",
      "20635 2023-11-23 22:01:59  2E1E192F-9972-8347-A06B-AA4AB4B55AFD   \n",
      "\n",
      "                                  SessionID  \\\n",
      "18     35BDCA78-364C-4D5C-BF4D-7DB5CBE0851E   \n",
      "63     40D1B639-1B7B-4725-A4DF-7D4F99BD5227   \n",
      "8498   7C5A950B-C05C-4596-BD09-623536CC5FA8   \n",
      "13108  8C7A0C4D-935C-4327-9F14-08D60178F1F6   \n",
      "15390  68A41E51-56CD-4807-AE31-FD6E2179FAE8   \n",
      "...                                     ...   \n",
      "20471  AF9F9D35-61FF-47CC-A8D8-EDBC40F5D31C   \n",
      "20566  11142739-07FE-4B6A-97C8-24C009D607DF   \n",
      "20591  CAC82F00-5769-40F1-A0E4-69C73BD735CF   \n",
      "20629  6E6E4A4A-D560-4618-BDC5-3B3A47BA8A3E   \n",
      "20635  6E6E4A4A-D560-4618-BDC5-3B3A47BA8A3E   \n",
      "\n",
      "                                 DowntimeID      ProcessUpTimestamp  \\\n",
      "18     25351A4E-1A8F-4A36-B6E4-5EE1BD3D5478                     NaN   \n",
      "63     1061407B-1C58-4C84-B45D-2B7A063615D2                     NaN   \n",
      "8498   7A08E59B-3DDA-4E18-8F38-BF3CBA70F88E    3/13/2023 9:33:31 AM   \n",
      "13108  F4E56E24-8EB8-4F96-A0CD-DCCF8CA81285    5/30/2023 2:22:46 AM   \n",
      "15390  765D421D-DC66-40ED-BC9B-4766AFC83618    7/12/2023 6:31:55 PM   \n",
      "...                                     ...                     ...   \n",
      "20471  3139173F-CE10-4AB7-B1A7-8B5149FCA14F   11/15/2023 6:36:34 PM   \n",
      "20566  28C1D56B-BFBF-4D41-8CBD-07156D24F9B6   11/21/2023 6:30:13 PM   \n",
      "20591  C06F8F18-1779-4F29-8DA6-FD4813A50457   11/22/2023 6:30:45 PM   \n",
      "20629  0DA3E332-0533-45DD-9327-648B2F83BD60   11/23/2023 6:01:26 PM   \n",
      "20635  5FE995E2-ED11-4367-B8FE-78D642A47702  11/23/2023 10:02:15 PM   \n",
      "\n",
      "                    Reason ReasonID ReasonDescription  TotalStopMinutes  \\\n",
      "18                     NaN      NaN               NaN              0.00   \n",
      "63                     NaN      NaN               NaN              0.00   \n",
      "8498   Get more rotor bars      NaN               NaN             18.68   \n",
      "13108         Fixing coil       NaN               NaN             19.45   \n",
      "15390               Lunch       NaN               NaN             29.50   \n",
      "...                    ...      ...               ...               ...   \n",
      "20471               Lunch       NaN               NaN             36.33   \n",
      "20566               Lunch       NaN               NaN             29.33   \n",
      "20591               Lunch       NaN               NaN             29.12   \n",
      "20629               Lunch       NaN               NaN              0.15   \n",
      "20635                    ,      NaN               NaN              0.27   \n",
      "\n",
      "       TotalStopMinutesAdjusted EmployeeID   OperationGroupName  \n",
      "18                          NaN        174    Groundwall Taping  \n",
      "63                          NaN        208              Looping  \n",
      "8498                        0.0         83              Forming  \n",
      "13108                       0.0        205            Hand Tape  \n",
      "15390                       0.0         97            Hand Tape  \n",
      "...                         ...        ...                  ...  \n",
      "20471                       0.0         97              Forming  \n",
      "20566                       0.0         97  Wire - Prep - Strip  \n",
      "20591                       0.0         97              Looping  \n",
      "20629                       0.0         97            Hand Tape  \n",
      "20635                       0.0         97            Hand Tape  \n",
      "\n",
      "[129 rows x 12 columns]\n"
     ]
    }
   ],
   "source": [
    "\n",
    "# Filter the DataFrame to include only rows where 'Reason' is not 'Material Change'\n",
    "# and check for null values in the 'ReasonID' column\n",
    "null_reasonid_except_material_change = df[(df['Reason'] != 'Material Change') & df['ReasonID'].isnull()]\n",
    "\n",
    "# Check if there are any rows that meet the conditions\n",
    "if not null_reasonid_except_material_change.empty:\n",
    "    print(\"There are null values in 'ReasonID' except when 'Reason' is not 'Material Change'.\")\n",
    "    print(null_reasonid_except_material_change)\n",
    "else:\n",
    "    print(\"No null values in 'ReasonID' except when 'Reason' is not 'Material Change'.\")\n"
   ]
  },
  {
   "cell_type": "code",
   "execution_count": 9,
   "id": "d35d2538",
   "metadata": {},
   "outputs": [
    {
     "name": "stdout",
     "output_type": "stream",
     "text": [
      "Number of null values in 'ReasonID' except when 'Reason' is not 'Material Change': 1003\n"
     ]
    }
   ],
   "source": [
    "\n",
    "# Count the number of null values in 'ReasonID' in the filtered DataFrame\n",
    "null_reasonid_count_except_material_change = filtered_df['ReasonID'].isnull().sum()\n",
    "\n",
    "# Print the count of null values in 'ReasonID' except when 'Reason' is not 'Material Change'\n",
    "print(\"Number of null values in 'ReasonID' except when 'Reason' is not 'Material Change':\", null_reasonid_count_except_material_change)\n"
   ]
  },
  {
   "cell_type": "code",
   "execution_count": 25,
   "id": "a0da4799",
   "metadata": {},
   "outputs": [
    {
     "name": "stdout",
     "output_type": "stream",
     "text": [
      "        CreationTimestamp                                CoilID  \\\n",
      "0     2022-07-26 02:30:57  673363C6-A374-604C-9E92-E1D808004DD3   \n",
      "1     2022-07-26 04:05:39  4A0D597A-1709-8E40-8108-5E2E22D51DA4   \n",
      "2     2022-07-26 12:25:56  E9946CAB-E4F0-594B-80B0-596B698EB76E   \n",
      "3     2022-07-26 21:56:32  C9AAB786-725A-A04C-AD10-5EBAEB2D6824   \n",
      "4     2022-07-27 02:32:13  1ECE6F19-F352-974C-A34E-95D3BDF63179   \n",
      "...                   ...                                   ...   \n",
      "20906 2023-12-05 09:37:54  48DB70FA-2B0C-C74A-86BC-7741ED5CE460   \n",
      "20907 2023-12-05 09:52:48  5E666081-70BC-4A4C-911C-497BF532C721   \n",
      "20908 2023-12-05 10:00:37  6A838778-19BA-774E-A2A8-F09306373941   \n",
      "20909 2023-12-05 10:09:35  091D4A42-A69A-7742-B849-19A57B0E7BE8   \n",
      "20910 2023-12-05 11:10:47  84A9DADA-6E84-B14F-BC87-BFC7912448C6   \n",
      "\n",
      "                                  SessionID  \\\n",
      "0      3A17649C-E667-420C-9E14-26A3B64BB3B2   \n",
      "1      4CE68493-C3C6-4545-AF5B-12A06B383D3C   \n",
      "2      27EE503A-E09F-4F3D-BD8F-CD91C110CAA8   \n",
      "3      BFEEEBF1-7C0D-4C22-9EE6-A76073846C59   \n",
      "4      739699BD-D098-4632-A325-18F0AC96F7F5   \n",
      "...                                     ...   \n",
      "20906  0520AB1D-46D1-418E-900F-69301B3725AC   \n",
      "20907  2DE4EA6A-ECC9-4655-9710-2C92ADE3A5C6   \n",
      "20908  2547EFAE-9994-431C-8322-7F405ABF8847   \n",
      "20909  0520AB1D-46D1-418E-900F-69301B3725AC   \n",
      "20910  D168BA99-525C-47FE-8A78-81CB9BA24F90   \n",
      "\n",
      "                                 DowntimeID     ProcessUpTimestamp  \\\n",
      "0      BF13994F-80A4-4EBB-AC94-873506F747CF   7/26/2022 3:06:26 AM   \n",
      "1      DBDF5441-534F-427E-9935-198B911300E4   7/26/2022 4:10:30 AM   \n",
      "2      A6187E17-6136-48BF-9D98-E979088D08F2  7/26/2022 12:43:30 PM   \n",
      "3      E8F1A077-65BF-4C7E-89F3-0DADFE0164B7   7/26/2022 9:57:12 PM   \n",
      "4      167A4DC1-06C2-432A-804C-09EA7FBD1AD8   7/27/2022 3:02:34 AM   \n",
      "...                                     ...                    ...   \n",
      "20906  DD82FF73-4887-4825-AC1B-76A35EABD60D   12/5/2023 9:50:16 AM   \n",
      "20907  3679CB4D-51C0-4A81-B9DD-BB889D7911D5  12/5/2023 10:00:49 AM   \n",
      "20908  9E7C0703-0A11-451E-8F50-6DF9C7742948  12/5/2023 10:08:49 AM   \n",
      "20909  70AB1E47-47E5-4415-8DE4-48C596245776  12/5/2023 10:17:23 AM   \n",
      "20910  6C6362B4-CEE8-4544-87F9-9F28B64252A3  12/5/2023 11:20:36 AM   \n",
      "\n",
      "                          Reason                              ReasonID  \\\n",
      "0               Shift Break (30)  E0AE35F8-143E-F44F-98EB-A27C610E65CB   \n",
      "1                          Other  276E22C8-771A-804D-81E9-A7722CDEB3D5   \n",
      "2               Shift Break (15)  74AD2F96-AB57-F744-A0A1-CC997D164228   \n",
      "3      Equipment/Machine Failure  6227A9E2-68F9-6C43-A110-512ADB8875C2   \n",
      "4               Shift Break (30)  E0AE35F8-143E-F44F-98EB-A27C610E65CB   \n",
      "...                          ...                                   ...   \n",
      "20906                      Other  276E22C8-771A-804D-81E9-A7722CDEB3D5   \n",
      "20907                   Washroom  D1BC1633-3321-FF47-B289-7D575231809E   \n",
      "20908                   Washroom  D1BC1633-3321-FF47-B289-7D575231809E   \n",
      "20909                      Other  276E22C8-771A-804D-81E9-A7722CDEB3D5   \n",
      "20910                      Other  276E22C8-771A-804D-81E9-A7722CDEB3D5   \n",
      "\n",
      "                     ReasonDescription  TotalStopMinutes  \\\n",
      "0                               Lunch\u000b",
      "             35.48   \n",
      "1                          Cut finger\u000b",
      "              4.85   \n",
      "2      Waiting for Sara waiting for wa             17.57   \n",
      "3                                   NO              0.67   \n",
      "4                                   NO             30.35   \n",
      "...                                ...               ...   \n",
      "20906          Help Bryan in extrusion             12.37   \n",
      "20907                               NO              8.02   \n",
      "20908                               NO              8.20   \n",
      "20909                       Help kevin              7.80   \n",
      "20910            Rework the first coil              9.82   \n",
      "\n",
      "       TotalStopMinutesAdjusted EmployeeID OperationGroupName  \n",
      "0                         30.00        230            Looping  \n",
      "1                          0.00        204      Consolidating  \n",
      "2                         15.00         83  Groundwall Taping  \n",
      "3                          0.67        232  Groundwall Taping  \n",
      "4                         30.00        204      Consolidating  \n",
      "...                         ...        ...                ...  \n",
      "20906                      0.00        112            Forming  \n",
      "20907                      0.00         83  Groundwall Taping  \n",
      "20908                      0.00        277        Pre-Forming  \n",
      "20909                      0.00        112            Forming  \n",
      "20910                      0.00         39          Hand Tape  \n",
      "\n",
      "[17220 rows x 12 columns]\n"
     ]
    }
   ],
   "source": [
    "\n",
    "# Replace 'ReasonID' with \"0\" where 'Reason' is 'Material Change'\n",
    "df.loc[df['Reason'] == 'Material Change', 'ReasonID'] = \"0\"\n",
    "\n",
    "# Drop rows where 'ReasonID' is null\n",
    "df = df.dropna(subset=['ReasonID'])\n",
    "\n",
    "# Verify the changes\n",
    "print(df)\n"
   ]
  },
  {
   "cell_type": "code",
   "execution_count": 11,
   "id": "ac98949d",
   "metadata": {},
   "outputs": [
    {
     "name": "stdout",
     "output_type": "stream",
     "text": [
      "Number of rows with null values in 'ProcessUpTimestamp': 0\n"
     ]
    }
   ],
   "source": [
    "\n",
    "\n",
    "# Count the number of rows with null values in 'ProcessUpTimestamp'\n",
    "null_process_up_timestamp_count = df['ProcessUpTimestamp'].isnull().sum()\n",
    "\n",
    "# Print the count of rows with null values in 'ProcessUpTimestamp'\n",
    "print(\"Number of rows with null values in 'ProcessUpTimestamp':\", null_process_up_timestamp_count)\n",
    "\n",
    "\n"
   ]
  },
  {
   "cell_type": "code",
   "execution_count": 12,
   "id": "510bfbc6",
   "metadata": {},
   "outputs": [
    {
     "name": "stdout",
     "output_type": "stream",
     "text": [
      "Number of rows after dropping null values: 17945\n"
     ]
    }
   ],
   "source": [
    "# Drop rows where 'ProcessUpTimestamp' is null\n",
    "df = df.dropna(subset=['ProcessUpTimestamp'])\n",
    "\n",
    "# Verify that the rows have been dropped\n",
    "print(\"Number of rows after dropping null values:\", len(df))"
   ]
  },
  {
   "cell_type": "code",
   "execution_count": 13,
   "id": "69db99b0",
   "metadata": {},
   "outputs": [
    {
     "name": "stdout",
     "output_type": "stream",
     "text": [
      "Number of rows with 'coil' as 'CoilID': 0\n"
     ]
    }
   ],
   "source": [
    "\n",
    "# Count the number of rows where 'CoilID' is equal to 'coil'\n",
    "coil_count = (df['CoilID'] == 'coil').sum()\n",
    "\n",
    "# Print the count of rows with 'coil' as 'CoilID'\n",
    "print(\"Number of rows with 'coil' as 'CoilID':\", coil_count)\n"
   ]
  },
  {
   "cell_type": "code",
   "execution_count": 5,
   "id": "b55ddced",
   "metadata": {},
   "outputs": [
    {
     "name": "stdout",
     "output_type": "stream",
     "text": [
      "Number of rows after dropping 'coil' as 'CoilID': 17945\n"
     ]
    }
   ],
   "source": [
    "\n",
    "df = df[df['CoilID'] != 'coil']\n",
    "\n",
    "# Count the number of rows after dropping 'coil'\n",
    "remaining_count = len(df)\n",
    "\n",
    "# Print the count of remaining rows\n",
    "print(\"Number of rows after dropping 'coil' as 'CoilID':\", remaining_count)\n"
   ]
  },
  {
   "cell_type": "code",
   "execution_count": 14,
   "id": "d63a0fd4",
   "metadata": {},
   "outputs": [
    {
     "name": "stdout",
     "output_type": "stream",
     "text": [
      "        CreationTimestamp                                CoilID  \\\n",
      "0     2022-07-26 02:30:57  673363C6-A374-604C-9E92-E1D808004DD3   \n",
      "1     2022-07-26 04:05:39  4A0D597A-1709-8E40-8108-5E2E22D51DA4   \n",
      "2     2022-07-26 12:25:56  E9946CAB-E4F0-594B-80B0-596B698EB76E   \n",
      "3     2022-07-26 21:56:32  C9AAB786-725A-A04C-AD10-5EBAEB2D6824   \n",
      "4     2022-07-27 02:32:13  1ECE6F19-F352-974C-A34E-95D3BDF63179   \n",
      "...                   ...                                   ...   \n",
      "20906 2023-12-05 09:37:54  48DB70FA-2B0C-C74A-86BC-7741ED5CE460   \n",
      "20907 2023-12-05 09:52:48  5E666081-70BC-4A4C-911C-497BF532C721   \n",
      "20908 2023-12-05 10:00:37  6A838778-19BA-774E-A2A8-F09306373941   \n",
      "20909 2023-12-05 10:09:35  091D4A42-A69A-7742-B849-19A57B0E7BE8   \n",
      "20910 2023-12-05 11:10:47  84A9DADA-6E84-B14F-BC87-BFC7912448C6   \n",
      "\n",
      "                                  SessionID  \\\n",
      "0      3A17649C-E667-420C-9E14-26A3B64BB3B2   \n",
      "1      4CE68493-C3C6-4545-AF5B-12A06B383D3C   \n",
      "2      27EE503A-E09F-4F3D-BD8F-CD91C110CAA8   \n",
      "3      BFEEEBF1-7C0D-4C22-9EE6-A76073846C59   \n",
      "4      739699BD-D098-4632-A325-18F0AC96F7F5   \n",
      "...                                     ...   \n",
      "20906  0520AB1D-46D1-418E-900F-69301B3725AC   \n",
      "20907  2DE4EA6A-ECC9-4655-9710-2C92ADE3A5C6   \n",
      "20908  2547EFAE-9994-431C-8322-7F405ABF8847   \n",
      "20909  0520AB1D-46D1-418E-900F-69301B3725AC   \n",
      "20910  D168BA99-525C-47FE-8A78-81CB9BA24F90   \n",
      "\n",
      "                                 DowntimeID     ProcessUpTimestamp  \\\n",
      "0      BF13994F-80A4-4EBB-AC94-873506F747CF   7/26/2022 3:06:26 AM   \n",
      "1      DBDF5441-534F-427E-9935-198B911300E4   7/26/2022 4:10:30 AM   \n",
      "2      A6187E17-6136-48BF-9D98-E979088D08F2  7/26/2022 12:43:30 PM   \n",
      "3      E8F1A077-65BF-4C7E-89F3-0DADFE0164B7   7/26/2022 9:57:12 PM   \n",
      "4      167A4DC1-06C2-432A-804C-09EA7FBD1AD8   7/27/2022 3:02:34 AM   \n",
      "...                                     ...                    ...   \n",
      "20906  DD82FF73-4887-4825-AC1B-76A35EABD60D   12/5/2023 9:50:16 AM   \n",
      "20907  3679CB4D-51C0-4A81-B9DD-BB889D7911D5  12/5/2023 10:00:49 AM   \n",
      "20908  9E7C0703-0A11-451E-8F50-6DF9C7742948  12/5/2023 10:08:49 AM   \n",
      "20909  70AB1E47-47E5-4415-8DE4-48C596245776  12/5/2023 10:17:23 AM   \n",
      "20910  6C6362B4-CEE8-4544-87F9-9F28B64252A3  12/5/2023 11:20:36 AM   \n",
      "\n",
      "                          Reason                              ReasonID  \\\n",
      "0               Shift Break (30)  E0AE35F8-143E-F44F-98EB-A27C610E65CB   \n",
      "1                          Other  276E22C8-771A-804D-81E9-A7722CDEB3D5   \n",
      "2               Shift Break (15)  74AD2F96-AB57-F744-A0A1-CC997D164228   \n",
      "3      Equipment/Machine Failure  6227A9E2-68F9-6C43-A110-512ADB8875C2   \n",
      "4               Shift Break (30)  E0AE35F8-143E-F44F-98EB-A27C610E65CB   \n",
      "...                          ...                                   ...   \n",
      "20906                      Other  276E22C8-771A-804D-81E9-A7722CDEB3D5   \n",
      "20907                   Washroom  D1BC1633-3321-FF47-B289-7D575231809E   \n",
      "20908                   Washroom  D1BC1633-3321-FF47-B289-7D575231809E   \n",
      "20909                      Other  276E22C8-771A-804D-81E9-A7722CDEB3D5   \n",
      "20910                      Other  276E22C8-771A-804D-81E9-A7722CDEB3D5   \n",
      "\n",
      "                     ReasonDescription  TotalStopMinutes  \\\n",
      "0                               Lunch\u000b",
      "             35.48   \n",
      "1                          Cut finger\u000b",
      "              4.85   \n",
      "2      Waiting for Sara waiting for wa             17.57   \n",
      "3                                   NO              0.67   \n",
      "4                                   NO             30.35   \n",
      "...                                ...               ...   \n",
      "20906          Help Bryan in extrusion             12.37   \n",
      "20907                               NO              8.02   \n",
      "20908                               NO              8.20   \n",
      "20909                       Help kevin              7.80   \n",
      "20910            Rework the first coil              9.82   \n",
      "\n",
      "       TotalStopMinutesAdjusted EmployeeID OperationGroupName  \n",
      "0                         30.00        230            Looping  \n",
      "1                          0.00        204      Consolidating  \n",
      "2                         15.00         83  Groundwall Taping  \n",
      "3                          0.67        232  Groundwall Taping  \n",
      "4                         30.00        204      Consolidating  \n",
      "...                         ...        ...                ...  \n",
      "20906                      0.00        112            Forming  \n",
      "20907                      0.00         83  Groundwall Taping  \n",
      "20908                      0.00        277        Pre-Forming  \n",
      "20909                      0.00        112            Forming  \n",
      "20910                      0.00         39          Hand Tape  \n",
      "\n",
      "[17945 rows x 12 columns]\n"
     ]
    }
   ],
   "source": [
    "\n",
    "# Replace empty values in 'ReasonDescription' with 'NO'\n",
    "df['ReasonDescription'] = df['ReasonDescription'].fillna('NO')\n",
    "\n",
    "# Verify the changes\n",
    "print(df)\n"
   ]
  },
  {
   "cell_type": "code",
   "execution_count": 15,
   "id": "8b9d4ead",
   "metadata": {},
   "outputs": [
    {
     "name": "stdout",
     "output_type": "stream",
     "text": [
      "Number of null values in 'ReasonDescription': 0\n"
     ]
    }
   ],
   "source": [
    "\n",
    "# Count the number of null values in 'ReasonDescription'\n",
    "null_reason_description_count = df['ReasonDescription'].isnull().sum()\n",
    "\n",
    "# Print the count of null values in 'ReasonDescription'\n",
    "print(\"Number of null values in 'ReasonDescription':\", null_reason_description_count)\n"
   ]
  },
  {
   "cell_type": "code",
   "execution_count": 16,
   "id": "a25873c2",
   "metadata": {},
   "outputs": [
    {
     "name": "stdout",
     "output_type": "stream",
     "text": [
      "        CreationTimestamp                                CoilID  \\\n",
      "0     2022-07-26 02:30:57  673363C6-A374-604C-9E92-E1D808004DD3   \n",
      "1     2022-07-26 04:05:39  4A0D597A-1709-8E40-8108-5E2E22D51DA4   \n",
      "2     2022-07-26 12:25:56  E9946CAB-E4F0-594B-80B0-596B698EB76E   \n",
      "3     2022-07-26 21:56:32  C9AAB786-725A-A04C-AD10-5EBAEB2D6824   \n",
      "4     2022-07-27 02:32:13  1ECE6F19-F352-974C-A34E-95D3BDF63179   \n",
      "...                   ...                                   ...   \n",
      "20906 2023-12-05 09:37:54  48DB70FA-2B0C-C74A-86BC-7741ED5CE460   \n",
      "20907 2023-12-05 09:52:48  5E666081-70BC-4A4C-911C-497BF532C721   \n",
      "20908 2023-12-05 10:00:37  6A838778-19BA-774E-A2A8-F09306373941   \n",
      "20909 2023-12-05 10:09:35  091D4A42-A69A-7742-B849-19A57B0E7BE8   \n",
      "20910 2023-12-05 11:10:47  84A9DADA-6E84-B14F-BC87-BFC7912448C6   \n",
      "\n",
      "                                  SessionID  \\\n",
      "0      3A17649C-E667-420C-9E14-26A3B64BB3B2   \n",
      "1      4CE68493-C3C6-4545-AF5B-12A06B383D3C   \n",
      "2      27EE503A-E09F-4F3D-BD8F-CD91C110CAA8   \n",
      "3      BFEEEBF1-7C0D-4C22-9EE6-A76073846C59   \n",
      "4      739699BD-D098-4632-A325-18F0AC96F7F5   \n",
      "...                                     ...   \n",
      "20906  0520AB1D-46D1-418E-900F-69301B3725AC   \n",
      "20907  2DE4EA6A-ECC9-4655-9710-2C92ADE3A5C6   \n",
      "20908  2547EFAE-9994-431C-8322-7F405ABF8847   \n",
      "20909  0520AB1D-46D1-418E-900F-69301B3725AC   \n",
      "20910  D168BA99-525C-47FE-8A78-81CB9BA24F90   \n",
      "\n",
      "                                 DowntimeID     ProcessUpTimestamp  \\\n",
      "0      BF13994F-80A4-4EBB-AC94-873506F747CF   7/26/2022 3:06:26 AM   \n",
      "1      DBDF5441-534F-427E-9935-198B911300E4   7/26/2022 4:10:30 AM   \n",
      "2      A6187E17-6136-48BF-9D98-E979088D08F2  7/26/2022 12:43:30 PM   \n",
      "3      E8F1A077-65BF-4C7E-89F3-0DADFE0164B7   7/26/2022 9:57:12 PM   \n",
      "4      167A4DC1-06C2-432A-804C-09EA7FBD1AD8   7/27/2022 3:02:34 AM   \n",
      "...                                     ...                    ...   \n",
      "20906  DD82FF73-4887-4825-AC1B-76A35EABD60D   12/5/2023 9:50:16 AM   \n",
      "20907  3679CB4D-51C0-4A81-B9DD-BB889D7911D5  12/5/2023 10:00:49 AM   \n",
      "20908  9E7C0703-0A11-451E-8F50-6DF9C7742948  12/5/2023 10:08:49 AM   \n",
      "20909  70AB1E47-47E5-4415-8DE4-48C596245776  12/5/2023 10:17:23 AM   \n",
      "20910  6C6362B4-CEE8-4544-87F9-9F28B64252A3  12/5/2023 11:20:36 AM   \n",
      "\n",
      "                          Reason                              ReasonID  \\\n",
      "0               Shift Break (30)  E0AE35F8-143E-F44F-98EB-A27C610E65CB   \n",
      "1                          Other  276E22C8-771A-804D-81E9-A7722CDEB3D5   \n",
      "2               Shift Break (15)  74AD2F96-AB57-F744-A0A1-CC997D164228   \n",
      "3      Equipment/Machine Failure  6227A9E2-68F9-6C43-A110-512ADB8875C2   \n",
      "4               Shift Break (30)  E0AE35F8-143E-F44F-98EB-A27C610E65CB   \n",
      "...                          ...                                   ...   \n",
      "20906                      Other  276E22C8-771A-804D-81E9-A7722CDEB3D5   \n",
      "20907                   Washroom  D1BC1633-3321-FF47-B289-7D575231809E   \n",
      "20908                   Washroom  D1BC1633-3321-FF47-B289-7D575231809E   \n",
      "20909                      Other  276E22C8-771A-804D-81E9-A7722CDEB3D5   \n",
      "20910                      Other  276E22C8-771A-804D-81E9-A7722CDEB3D5   \n",
      "\n",
      "                     ReasonDescription  TotalStopMinutes  \\\n",
      "0                               Lunch\u000b",
      "             35.48   \n",
      "1                          Cut finger\u000b",
      "              4.85   \n",
      "2      Waiting for Sara waiting for wa             17.57   \n",
      "3                                   NO              0.67   \n",
      "4                                   NO             30.35   \n",
      "...                                ...               ...   \n",
      "20906          Help Bryan in extrusion             12.37   \n",
      "20907                               NO              8.02   \n",
      "20908                               NO              8.20   \n",
      "20909                       Help kevin              7.80   \n",
      "20910            Rework the first coil              9.82   \n",
      "\n",
      "       TotalStopMinutesAdjusted EmployeeID OperationGroupName  \n",
      "0                         30.00        230            Looping  \n",
      "1                          0.00        204      Consolidating  \n",
      "2                         15.00         83  Groundwall Taping  \n",
      "3                          0.67        232  Groundwall Taping  \n",
      "4                         30.00        204      Consolidating  \n",
      "...                         ...        ...                ...  \n",
      "20906                      0.00        112            Forming  \n",
      "20907                      0.00         83  Groundwall Taping  \n",
      "20908                      0.00        277        Pre-Forming  \n",
      "20909                      0.00        112            Forming  \n",
      "20910                      0.00         39          Hand Tape  \n",
      "\n",
      "[17945 rows x 12 columns]\n"
     ]
    }
   ],
   "source": [
    "\n",
    "# Replace null values in 'Reason' with '0'\n",
    "df['Reason'] = df['Reason'].fillna('0')\n",
    "\n",
    "# Verify the changes\n",
    "print(df)\n"
   ]
  },
  {
   "cell_type": "code",
   "execution_count": 24,
   "id": "0a0f151e",
   "metadata": {},
   "outputs": [
    {
     "name": "stdout",
     "output_type": "stream",
     "text": [
      "Number of null values in 'Reason': 0\n"
     ]
    }
   ],
   "source": [
    "\n",
    "# Count the number of null values in 'Reason'\n",
    "null_reason_count = df['Reason'].isnull().sum()\n",
    "\n",
    "# Print the count of null values in 'Reason'\n",
    "print(\"Number of null values in 'Reason':\", null_reason_count)\n"
   ]
  },
  {
   "cell_type": "code",
   "execution_count": 14,
   "id": "fdc4d5e7",
   "metadata": {},
   "outputs": [
    {
     "name": "stdout",
     "output_type": "stream",
     "text": [
      "Latest entry for 'Reason' where the reason is 'Material Change':\n",
      "CreationTimestamp                                         2023-03-13 10:41:59\n",
      "CoilID                                                                   coil\n",
      "SessionID                                C6B12FCD-2B9A-4920-B7D1-611F82AD181F\n",
      "DowntimeID                               3525BEBE-083B-4FB9-B338-F3B110558543\n",
      "ProcessUpTimestamp                                        2023-03-13 11:20:47\n",
      "Reason                                                        Material Change\n",
      "ReasonID                                                                  NaN\n",
      "ReasonDescription           Waiting on Toto bars but cutting packing mater...\n",
      "TotalStopMinutes                                                         38.8\n",
      "TotalStopMinutesAdjusted                                                  0.0\n",
      "EmployeeID                                                                253\n",
      "OperationGroupName                                        Wire - Prep - Strip\n",
      "Name: 8504, dtype: object\n"
     ]
    }
   ],
   "source": [
    "\n",
    "\n",
    "# Convert 'ProcessUpTimestamp' to datetime for sorting\n",
    "df['ProcessUpTimestamp'] = pd.to_datetime(df['ProcessUpTimestamp'])\n",
    "\n",
    "# Filter the DataFrame for entries where 'Reason' is 'Material Change'\n",
    "material_change_entries = df[df['Reason'] == 'Material Change']\n",
    "\n",
    "# Find the index of the row with the latest 'ProcessUpTimestamp'\n",
    "latest_material_change_entry_index = material_change_entries['ProcessUpTimestamp'].idxmax()\n",
    "\n",
    "# Get the latest entry for 'Reason' where the reason is 'Material Change'\n",
    "latest_material_change_entry = df.loc[latest_material_change_entry_index]\n",
    "\n",
    "# Print the result\n",
    "print(\"Latest entry for 'Reason' where the reason is 'Material Change':\")\n",
    "print(latest_material_change_entry)\n"
   ]
  },
  {
   "cell_type": "code",
   "execution_count": 18,
   "id": "e5056021",
   "metadata": {},
   "outputs": [
    {
     "name": "stdout",
     "output_type": "stream",
     "text": [
      "        CreationTimestamp                                CoilID  \\\n",
      "0     2022-07-26 02:30:57  673363C6-A374-604C-9E92-E1D808004DD3   \n",
      "1     2022-07-26 04:05:39  4A0D597A-1709-8E40-8108-5E2E22D51DA4   \n",
      "2     2022-07-26 12:25:56  E9946CAB-E4F0-594B-80B0-596B698EB76E   \n",
      "3     2022-07-26 21:56:32  C9AAB786-725A-A04C-AD10-5EBAEB2D6824   \n",
      "4     2022-07-27 02:32:13  1ECE6F19-F352-974C-A34E-95D3BDF63179   \n",
      "...                   ...                                   ...   \n",
      "20906 2023-12-05 09:37:54  48DB70FA-2B0C-C74A-86BC-7741ED5CE460   \n",
      "20907 2023-12-05 09:52:48  5E666081-70BC-4A4C-911C-497BF532C721   \n",
      "20908 2023-12-05 10:00:37  6A838778-19BA-774E-A2A8-F09306373941   \n",
      "20909 2023-12-05 10:09:35  091D4A42-A69A-7742-B849-19A57B0E7BE8   \n",
      "20910 2023-12-05 11:10:47  84A9DADA-6E84-B14F-BC87-BFC7912448C6   \n",
      "\n",
      "                                  SessionID  \\\n",
      "0      3A17649C-E667-420C-9E14-26A3B64BB3B2   \n",
      "1      4CE68493-C3C6-4545-AF5B-12A06B383D3C   \n",
      "2      27EE503A-E09F-4F3D-BD8F-CD91C110CAA8   \n",
      "3      BFEEEBF1-7C0D-4C22-9EE6-A76073846C59   \n",
      "4      739699BD-D098-4632-A325-18F0AC96F7F5   \n",
      "...                                     ...   \n",
      "20906  0520AB1D-46D1-418E-900F-69301B3725AC   \n",
      "20907  2DE4EA6A-ECC9-4655-9710-2C92ADE3A5C6   \n",
      "20908  2547EFAE-9994-431C-8322-7F405ABF8847   \n",
      "20909  0520AB1D-46D1-418E-900F-69301B3725AC   \n",
      "20910  D168BA99-525C-47FE-8A78-81CB9BA24F90   \n",
      "\n",
      "                                 DowntimeID     ProcessUpTimestamp  \\\n",
      "0      BF13994F-80A4-4EBB-AC94-873506F747CF   7/26/2022 3:06:26 AM   \n",
      "1      DBDF5441-534F-427E-9935-198B911300E4   7/26/2022 4:10:30 AM   \n",
      "2      A6187E17-6136-48BF-9D98-E979088D08F2  7/26/2022 12:43:30 PM   \n",
      "3      E8F1A077-65BF-4C7E-89F3-0DADFE0164B7   7/26/2022 9:57:12 PM   \n",
      "4      167A4DC1-06C2-432A-804C-09EA7FBD1AD8   7/27/2022 3:02:34 AM   \n",
      "...                                     ...                    ...   \n",
      "20906  DD82FF73-4887-4825-AC1B-76A35EABD60D   12/5/2023 9:50:16 AM   \n",
      "20907  3679CB4D-51C0-4A81-B9DD-BB889D7911D5  12/5/2023 10:00:49 AM   \n",
      "20908  9E7C0703-0A11-451E-8F50-6DF9C7742948  12/5/2023 10:08:49 AM   \n",
      "20909  70AB1E47-47E5-4415-8DE4-48C596245776  12/5/2023 10:17:23 AM   \n",
      "20910  6C6362B4-CEE8-4544-87F9-9F28B64252A3  12/5/2023 11:20:36 AM   \n",
      "\n",
      "                          Reason                              ReasonID  \\\n",
      "0               Shift Break (30)  E0AE35F8-143E-F44F-98EB-A27C610E65CB   \n",
      "1                          Other  276E22C8-771A-804D-81E9-A7722CDEB3D5   \n",
      "2               Shift Break (15)  74AD2F96-AB57-F744-A0A1-CC997D164228   \n",
      "3      Equipment/Machine Failure  6227A9E2-68F9-6C43-A110-512ADB8875C2   \n",
      "4               Shift Break (30)  E0AE35F8-143E-F44F-98EB-A27C610E65CB   \n",
      "...                          ...                                   ...   \n",
      "20906                      Other  276E22C8-771A-804D-81E9-A7722CDEB3D5   \n",
      "20907                   Washroom  D1BC1633-3321-FF47-B289-7D575231809E   \n",
      "20908                   Washroom  D1BC1633-3321-FF47-B289-7D575231809E   \n",
      "20909                      Other  276E22C8-771A-804D-81E9-A7722CDEB3D5   \n",
      "20910                      Other  276E22C8-771A-804D-81E9-A7722CDEB3D5   \n",
      "\n",
      "                     ReasonDescription  TotalStopMinutes  \\\n",
      "0                               Lunch\u000b",
      "             35.48   \n",
      "1                          Cut finger\u000b",
      "              4.85   \n",
      "2      Waiting for Sara waiting for wa             17.57   \n",
      "3                                   NO              0.67   \n",
      "4                                   NO             30.35   \n",
      "...                                ...               ...   \n",
      "20906          Help Bryan in extrusion             12.37   \n",
      "20907                               NO              8.02   \n",
      "20908                               NO              8.20   \n",
      "20909                       Help kevin              7.80   \n",
      "20910            Rework the first coil              9.82   \n",
      "\n",
      "       TotalStopMinutesAdjusted EmployeeID OperationGroupName  \n",
      "0                         30.00        230            Looping  \n",
      "1                          0.00        204      Consolidating  \n",
      "2                         15.00         83  Groundwall Taping  \n",
      "3                          0.67        232  Groundwall Taping  \n",
      "4                         30.00        204      Consolidating  \n",
      "...                         ...        ...                ...  \n",
      "20906                      0.00        112            Forming  \n",
      "20907                      0.00         83  Groundwall Taping  \n",
      "20908                      0.00        277        Pre-Forming  \n",
      "20909                      0.00        112            Forming  \n",
      "20910                      0.00         39          Hand Tape  \n",
      "\n",
      "[17945 rows x 12 columns]\n",
      "Mean for 'TotalStopMinutesAdjusted': 9.92722027972028\n"
     ]
    }
   ],
   "source": [
    "\n",
    "# Calculate the mean of 'TotalStopMinutesAdjusted'\n",
    "mean_total_stop_minutes_adjusted = df['TotalStopMinutesAdjusted'].mean()\n",
    "\n",
    "# Replace null values in 'TotalStopMinutesAdjusted' with the mean\n",
    "df['TotalStopMinutesAdjusted'] = df['TotalStopMinutesAdjusted'].fillna(mean_total_stop_minutes_adjusted)\n",
    "\n",
    "# Verify the changes\n",
    "print(df)\n",
    "print(\"Mean for 'TotalStopMinutesAdjusted':\", mean_total_stop_minutes_adjusted)\n"
   ]
  },
  {
   "cell_type": "code",
   "execution_count": 19,
   "id": "850a2d7a",
   "metadata": {},
   "outputs": [
    {
     "name": "stdout",
     "output_type": "stream",
     "text": [
      "Rounded mean for 'TotalStopMinutesAdjusted': 10\n"
     ]
    }
   ],
   "source": [
    "\n",
    "# Calculate the mean of 'TotalStopMinutesAdjusted' and round it\n",
    "mean_total_stop_minutes_adjusted = round(df['TotalStopMinutesAdjusted'].mean())\n",
    "\n",
    "# Print the rounded mean\n",
    "print(\"Rounded mean for 'TotalStopMinutesAdjusted':\", mean_total_stop_minutes_adjusted)\n"
   ]
  },
  {
   "cell_type": "code",
   "execution_count": 16,
   "id": "fd4d54ba",
   "metadata": {},
   "outputs": [
    {
     "name": "stdout",
     "output_type": "stream",
     "text": [
      "There are no null values in 'TotalStopMinutesAdjusted'.\n"
     ]
    }
   ],
   "source": [
    "\n",
    "\n",
    "# Check if there are any null values in 'TotalStopMinutesAdjusted'\n",
    "null_values_exist = df['TotalStopMinutesAdjusted'].isnull().any()\n",
    "\n",
    "# Print the result\n",
    "if null_values_exist:\n",
    "    print(\"There are null values in 'TotalStopMinutesAdjusted'.\")\n",
    "else:\n",
    "    print(\"There are no null values in 'TotalStopMinutesAdjusted'.\")\n"
   ]
  },
  {
   "cell_type": "code",
   "execution_count": 19,
   "id": "9441a5cf",
   "metadata": {},
   "outputs": [
    {
     "name": "stdout",
     "output_type": "stream",
     "text": [
      "Number of null values in 'ReasonDescription': 0\n"
     ]
    }
   ],
   "source": [
    "\n",
    "\n",
    "# Count the number of null values in 'ReasonDescription'\n",
    "null_reason_description_count = df['ReasonDescription'].isnull().sum()\n",
    "\n",
    "# Print the count of null values in 'ReasonDescription'\n",
    "print(\"Number of null values in 'ReasonDescription':\", null_reason_description_count)\n"
   ]
  },
  {
   "cell_type": "code",
   "execution_count": 22,
   "id": "ebeed581",
   "metadata": {
    "scrolled": true
   },
   "outputs": [
    {
     "name": "stdout",
     "output_type": "stream",
     "text": [
      "Number of null values in each column:\n",
      "CreationTimestamp             0\n",
      "CoilID                      612\n",
      "SessionID                     0\n",
      "DowntimeID                    0\n",
      "ProcessUpTimestamp            0\n",
      "Reason                        0\n",
      "ReasonID                      0\n",
      "ReasonDescription             0\n",
      "TotalStopMinutes              0\n",
      "TotalStopMinutesAdjusted      0\n",
      "EmployeeID                    1\n",
      "OperationGroupName            2\n",
      "dtype: int64\n",
      "\n",
      "Total number of rows with null values: 614\n"
     ]
    }
   ],
   "source": [
    "\n",
    "# Count the number of null values in each column\n",
    "null_counts = df.isnull().sum()\n",
    "\n",
    "# Print the null counts for each column\n",
    "print(\"Number of null values in each column:\")\n",
    "print(null_counts)\n",
    "\n",
    "# Total number of rows with null values\n",
    "total_rows_with_null = df.isnull().any(axis=1).sum()\n",
    "print(\"\\nTotal number of rows with null values:\", total_rows_with_null)"
   ]
  },
  {
   "cell_type": "code",
   "execution_count": 22,
   "id": "d0a29d5f",
   "metadata": {},
   "outputs": [
    {
     "name": "stdout",
     "output_type": "stream",
     "text": [
      "        CreationTimestamp                                CoilID  \\\n",
      "0     2022-07-26 02:30:57  673363C6-A374-604C-9E92-E1D808004DD3   \n",
      "1     2022-07-26 04:05:39  4A0D597A-1709-8E40-8108-5E2E22D51DA4   \n",
      "2     2022-07-26 12:25:56  E9946CAB-E4F0-594B-80B0-596B698EB76E   \n",
      "3     2022-07-26 21:56:32  C9AAB786-725A-A04C-AD10-5EBAEB2D6824   \n",
      "4     2022-07-27 02:32:13  1ECE6F19-F352-974C-A34E-95D3BDF63179   \n",
      "...                   ...                                   ...   \n",
      "20906 2023-12-05 09:37:54  48DB70FA-2B0C-C74A-86BC-7741ED5CE460   \n",
      "20907 2023-12-05 09:52:48  5E666081-70BC-4A4C-911C-497BF532C721   \n",
      "20908 2023-12-05 10:00:37  6A838778-19BA-774E-A2A8-F09306373941   \n",
      "20909 2023-12-05 10:09:35  091D4A42-A69A-7742-B849-19A57B0E7BE8   \n",
      "20910 2023-12-05 11:10:47  84A9DADA-6E84-B14F-BC87-BFC7912448C6   \n",
      "\n",
      "                                  SessionID  \\\n",
      "0      3A17649C-E667-420C-9E14-26A3B64BB3B2   \n",
      "1      4CE68493-C3C6-4545-AF5B-12A06B383D3C   \n",
      "2      27EE503A-E09F-4F3D-BD8F-CD91C110CAA8   \n",
      "3      BFEEEBF1-7C0D-4C22-9EE6-A76073846C59   \n",
      "4      739699BD-D098-4632-A325-18F0AC96F7F5   \n",
      "...                                     ...   \n",
      "20906  0520AB1D-46D1-418E-900F-69301B3725AC   \n",
      "20907  2DE4EA6A-ECC9-4655-9710-2C92ADE3A5C6   \n",
      "20908  2547EFAE-9994-431C-8322-7F405ABF8847   \n",
      "20909  0520AB1D-46D1-418E-900F-69301B3725AC   \n",
      "20910  D168BA99-525C-47FE-8A78-81CB9BA24F90   \n",
      "\n",
      "                                 DowntimeID     ProcessUpTimestamp  \\\n",
      "0      BF13994F-80A4-4EBB-AC94-873506F747CF   7/26/2022 3:06:26 AM   \n",
      "1      DBDF5441-534F-427E-9935-198B911300E4   7/26/2022 4:10:30 AM   \n",
      "2      A6187E17-6136-48BF-9D98-E979088D08F2  7/26/2022 12:43:30 PM   \n",
      "3      E8F1A077-65BF-4C7E-89F3-0DADFE0164B7   7/26/2022 9:57:12 PM   \n",
      "4      167A4DC1-06C2-432A-804C-09EA7FBD1AD8   7/27/2022 3:02:34 AM   \n",
      "...                                     ...                    ...   \n",
      "20906  DD82FF73-4887-4825-AC1B-76A35EABD60D   12/5/2023 9:50:16 AM   \n",
      "20907  3679CB4D-51C0-4A81-B9DD-BB889D7911D5  12/5/2023 10:00:49 AM   \n",
      "20908  9E7C0703-0A11-451E-8F50-6DF9C7742948  12/5/2023 10:08:49 AM   \n",
      "20909  70AB1E47-47E5-4415-8DE4-48C596245776  12/5/2023 10:17:23 AM   \n",
      "20910  6C6362B4-CEE8-4544-87F9-9F28B64252A3  12/5/2023 11:20:36 AM   \n",
      "\n",
      "                          Reason                              ReasonID  \\\n",
      "0               Shift Break (30)  E0AE35F8-143E-F44F-98EB-A27C610E65CB   \n",
      "1                          Other  276E22C8-771A-804D-81E9-A7722CDEB3D5   \n",
      "2               Shift Break (15)  74AD2F96-AB57-F744-A0A1-CC997D164228   \n",
      "3      Equipment/Machine Failure  6227A9E2-68F9-6C43-A110-512ADB8875C2   \n",
      "4               Shift Break (30)  E0AE35F8-143E-F44F-98EB-A27C610E65CB   \n",
      "...                          ...                                   ...   \n",
      "20906                      Other  276E22C8-771A-804D-81E9-A7722CDEB3D5   \n",
      "20907                   Washroom  D1BC1633-3321-FF47-B289-7D575231809E   \n",
      "20908                   Washroom  D1BC1633-3321-FF47-B289-7D575231809E   \n",
      "20909                      Other  276E22C8-771A-804D-81E9-A7722CDEB3D5   \n",
      "20910                      Other  276E22C8-771A-804D-81E9-A7722CDEB3D5   \n",
      "\n",
      "                     ReasonDescription  TotalStopMinutes  \\\n",
      "0                               Lunch\u000b",
      "             35.48   \n",
      "1                          Cut finger\u000b",
      "              4.85   \n",
      "2      Waiting for Sara waiting for wa             17.57   \n",
      "3                                   NO              0.67   \n",
      "4                                   NO             30.35   \n",
      "...                                ...               ...   \n",
      "20906          Help Bryan in extrusion             12.37   \n",
      "20907                               NO              8.02   \n",
      "20908                               NO              8.20   \n",
      "20909                       Help kevin              7.80   \n",
      "20910            Rework the first coil              9.82   \n",
      "\n",
      "       TotalStopMinutesAdjusted EmployeeID OperationGroupName  \n",
      "0                         30.00        230            Looping  \n",
      "1                          0.00        204      Consolidating  \n",
      "2                         15.00         83  Groundwall Taping  \n",
      "3                          0.67        232  Groundwall Taping  \n",
      "4                         30.00        204      Consolidating  \n",
      "...                         ...        ...                ...  \n",
      "20906                      0.00        112            Forming  \n",
      "20907                      0.00         83  Groundwall Taping  \n",
      "20908                      0.00        277        Pre-Forming  \n",
      "20909                      0.00        112            Forming  \n",
      "20910                      0.00         39          Hand Tape  \n",
      "\n",
      "[17326 rows x 12 columns]\n"
     ]
    }
   ],
   "source": [
    "\n",
    "# Drop rows where 'CoilID', 'EmployeeID', or 'OperationGroupName' is null\n",
    "df = df.dropna(subset=['CoilID', 'EmployeeID', 'OperationGroupName'])\n",
    "\n",
    "# Verify the changes\n",
    "print(df)\n"
   ]
  },
  {
   "cell_type": "code",
   "execution_count": 26,
   "id": "ab114838",
   "metadata": {},
   "outputs": [
    {
     "name": "stdout",
     "output_type": "stream",
     "text": [
      "Number of null values in each column:\n",
      "CreationTimestamp           0\n",
      "CoilID                      0\n",
      "SessionID                   0\n",
      "DowntimeID                  0\n",
      "ProcessUpTimestamp          0\n",
      "Reason                      0\n",
      "ReasonID                    0\n",
      "ReasonDescription           0\n",
      "TotalStopMinutes            0\n",
      "TotalStopMinutesAdjusted    0\n",
      "EmployeeID                  0\n",
      "OperationGroupName          0\n",
      "dtype: int64\n",
      "\n",
      "Total number of rows with null values: 0\n"
     ]
    }
   ],
   "source": [
    "# Count the number of null values in each column\n",
    "null_counts = df.isnull().sum()\n",
    "\n",
    "# Print the null counts for each column\n",
    "print(\"Number of null values in each column:\")\n",
    "print(null_counts)\n",
    "\n",
    "# Total number of rows with null values\n",
    "total_rows_with_null = df.isnull().any(axis=1).sum()\n",
    "print(\"\\nTotal number of rows with null values:\", total_rows_with_null)"
   ]
  },
  {
   "cell_type": "code",
   "execution_count": 20,
   "id": "278b4c0c",
   "metadata": {},
   "outputs": [
    {
     "name": "stdout",
     "output_type": "stream",
     "text": [
      "Total number of rows: 17945\n"
     ]
    }
   ],
   "source": [
    "\n",
    "# Get the total number of rows\n",
    "total_rows = df.shape[0]\n",
    "\n",
    "# Print the total number of rows\n",
    "print(\"Total number of rows:\", total_rows)\n"
   ]
  },
  {
   "cell_type": "code",
   "execution_count": null,
   "id": "f65083f8",
   "metadata": {},
   "outputs": [],
   "source": []
  }
 ],
 "metadata": {
  "kernelspec": {
   "display_name": "Python 3 (ipykernel)",
   "language": "python",
   "name": "python3"
  },
  "language_info": {
   "codemirror_mode": {
    "name": "ipython",
    "version": 3
   },
   "file_extension": ".py",
   "mimetype": "text/x-python",
   "name": "python",
   "nbconvert_exporter": "python",
   "pygments_lexer": "ipython3",
   "version": "3.11.4"
  }
 },
 "nbformat": 4,
 "nbformat_minor": 5
}
